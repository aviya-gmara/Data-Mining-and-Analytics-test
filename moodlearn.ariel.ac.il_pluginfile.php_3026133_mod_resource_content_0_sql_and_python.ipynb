{
 "cells": [
  {
   "cell_type": "markdown",
   "metadata": {},
   "source": [
    "<h1>Python and MySQL</h1>"
   ]
  },
  {
   "cell_type": "markdown",
   "metadata": {},
   "source": [
    "<h2>First import the python module containing the API</h2>"
   ]
  },
  {
   "cell_type": "code",
   "execution_count": 1,
   "metadata": {},
   "outputs": [
    {
     "name": "stdout",
     "output_type": "stream",
     "text": [
      "Collecting pymysql\n",
      "  Downloading PyMySQL-1.0.2-py3-none-any.whl (43 kB)\n",
      "Installing collected packages: pymysql\n",
      "Successfully installed pymysql-1.0.2\n"
     ]
    }
   ],
   "source": [
    "!pip install pymysql"
   ]
  },
  {
   "cell_type": "code",
   "execution_count": 15,
   "metadata": {},
   "outputs": [],
   "source": [
    "import pymysql\n",
    "import pandas as pd"
   ]
  },
  {
   "cell_type": "markdown",
   "metadata": {},
   "source": [
    "<h2>Set up a connection and create a cursor object</h2>"
   ]
  },
  {
   "cell_type": "code",
   "execution_count": 3,
   "metadata": {},
   "outputs": [],
   "source": [
    "db = pymysql.connect(host = \"localhost\",\n",
    "                     user= \"root\",\n",
    "                     password = \"root\" ,\n",
    "                     database=\"hotels_schema\")\n",
    "cursor = db.cursor()\n"
   ]
  },
  {
   "cell_type": "markdown",
   "metadata": {},
   "source": [
    "<h2>Execute a query and get the results</h2>"
   ]
  },
  {
   "cell_type": "code",
   "execution_count": 4,
   "metadata": {},
   "outputs": [
    {
     "data": {
      "text/plain": [
       "(('guests',), ('hotels',), ('reservation',), ('rooms',))"
      ]
     },
     "execution_count": 4,
     "metadata": {},
     "output_type": "execute_result"
    }
   ],
   "source": [
    "cursor.execute('show tables;')\n",
    "cursor.fetchall()\n",
    "               "
   ]
  },
  {
   "cell_type": "code",
   "execution_count": 5,
   "metadata": {},
   "outputs": [
    {
     "data": {
      "text/plain": [
       "(('Meridian', 'Tel Aviv'),\n",
       " ('Meridian', 'Tveria'),\n",
       " ('King David', 'Jerusalem'),\n",
       " ('Hilton', 'Jerusalem'),\n",
       " ('Herods', 'Eilat'),\n",
       " ('Hof Yam', 'Haifa'),\n",
       " ('Ha Tsuk', 'Haifa'),\n",
       " ('Ha Nesiha', 'Eilat'),\n",
       " ('King David', 'Tveria'))"
      ]
     },
     "execution_count": 5,
     "metadata": {},
     "output_type": "execute_result"
    }
   ],
   "source": [
    "query = \"\"\"\n",
    "SELECT hotels.hotel_name, hotels.city FROM hotels ;\n",
    "\"\"\"\n",
    "cursor.execute(query)\n",
    "cursor.fetchall()"
   ]
  },
  {
   "cell_type": "code",
   "execution_count": 6,
   "metadata": {},
   "outputs": [
    {
     "data": {
      "text/plain": [
       "(('00000001-0', 6, 'Hof Yam', 'Haifa'),\n",
       " ('00000001-0', 5, 'Herods', 'Eilat'),\n",
       " ('00000002-0', 4, 'Hilton', 'Jerusalem'),\n",
       " ('00000002-0', 5, 'Herods', 'Eilat'),\n",
       " ('04352244-4', 3, 'King David', 'Jerusalem'),\n",
       " ('06112343-6', 2, 'Meridian', 'Tveria'),\n",
       " ('06112343-6', 1, 'Meridian', 'Tel Aviv'),\n",
       " ('12345678-0', 8, 'Ha Nesiha', 'Eilat'),\n",
       " ('87654321-0', 8, 'Ha Nesiha', 'Eilat'),\n",
       " ('04256372-0', 8, 'Ha Nesiha', 'Eilat'),\n",
       " ('04256372-0', 8, 'Ha Nesiha', 'Eilat'),\n",
       " ('02637482-0', 8, 'Ha Nesiha', 'Eilat'))"
      ]
     },
     "execution_count": 6,
     "metadata": {},
     "output_type": "execute_result"
    }
   ],
   "source": [
    "query = \"\"\"\n",
    "SELECT reservation.id, reservation.hotel_code, hotels.hotel_name, hotels.city \n",
    "FROM reservation INNER JOIN hotels ON hotels.hotel_code = reservation.hotel_code ;\n",
    "\"\"\"\n",
    "cursor.execute(query)\n",
    "cursor.fetchall()"
   ]
  },
  {
   "cell_type": "code",
   "execution_count": 7,
   "metadata": {},
   "outputs": [
    {
     "data": {
      "text/plain": [
       "(('00000001-0', 6, 'Hof Yam', 'Haifa'),)"
      ]
     },
     "execution_count": 7,
     "metadata": {},
     "output_type": "execute_result"
    }
   ],
   "source": [
    "query = \"\"\"\n",
    "SELECT reservation.id, reservation.hotel_code, hotels.hotel_name, hotels.city \n",
    "FROM reservation INNER JOIN hotels ON hotels.hotel_code = reservation.hotel_code \n",
    "WHERE hotels.hotel_name = \"Hof Yam\";\n",
    "\"\"\"\n",
    "cursor.execute(query)\n",
    "cursor.fetchall()"
   ]
  },
  {
   "cell_type": "code",
   "execution_count": 10,
   "metadata": {},
   "outputs": [
    {
     "data": {
      "text/plain": [
       "()"
      ]
     },
     "execution_count": 10,
     "metadata": {},
     "output_type": "execute_result"
    }
   ],
   "source": [
    "query = \"\"\"\n",
    "INSERT INTO hotels VALUES (10, 'Queen Shva', 'Eilat', 'Galgal 55', 5, '08-7325544', 340);\n",
    "\"\"\"\n",
    "cursor.execute(query)\n",
    "cursor.fetchall()"
   ]
  },
  {
   "cell_type": "code",
   "execution_count": 11,
   "metadata": {},
   "outputs": [
    {
     "data": {
      "text/plain": [
       "(('Meridian', 'Tel Aviv'),\n",
       " ('Meridian', 'Tveria'),\n",
       " ('King David', 'Jerusalem'),\n",
       " ('Hilton', 'Jerusalem'),\n",
       " ('Herods', 'Eilat'),\n",
       " ('Hof Yam', 'Haifa'),\n",
       " ('Ha Tsuk', 'Haifa'),\n",
       " ('Ha Nesiha', 'Eilat'),\n",
       " ('King David', 'Tveria'),\n",
       " ('Queen Shva', 'Eilat'))"
      ]
     },
     "execution_count": 11,
     "metadata": {},
     "output_type": "execute_result"
    }
   ],
   "source": [
    "query = \"\"\"\n",
    "SELECT hotels.hotel_name, city FROM hotels ;\n",
    "\"\"\"\n",
    "cursor.execute(query)\n",
    "cursor.fetchall()\n"
   ]
  },
  {
   "cell_type": "code",
   "execution_count": 14,
   "metadata": {},
   "outputs": [],
   "source": [
    "# commits the changes to the db\n",
    "db.commit()\n",
    "\n"
   ]
  },
  {
   "cell_type": "code",
   "execution_count": 16,
   "metadata": {},
   "outputs": [],
   "source": [
    "## reading from a database into pandas dataframe\n",
    "\n",
    "query = \"\"\"\n",
    "SELECT * FROM hotels ;\n",
    "\"\"\"\n",
    "df = pd.read_sql(query, db)"
   ]
  },
  {
   "cell_type": "code",
   "execution_count": 17,
   "metadata": {},
   "outputs": [
    {
     "data": {
      "text/html": [
       "<div>\n",
       "<style scoped>\n",
       "    .dataframe tbody tr th:only-of-type {\n",
       "        vertical-align: middle;\n",
       "    }\n",
       "\n",
       "    .dataframe tbody tr th {\n",
       "        vertical-align: top;\n",
       "    }\n",
       "\n",
       "    .dataframe thead th {\n",
       "        text-align: right;\n",
       "    }\n",
       "</style>\n",
       "<table border=\"1\" class=\"dataframe\">\n",
       "  <thead>\n",
       "    <tr style=\"text-align: right;\">\n",
       "      <th></th>\n",
       "      <th>hotel_code</th>\n",
       "      <th>hotel_name</th>\n",
       "      <th>city</th>\n",
       "      <th>address</th>\n",
       "      <th>hotel_rank</th>\n",
       "      <th>phone</th>\n",
       "      <th>number_of_rooms</th>\n",
       "    </tr>\n",
       "  </thead>\n",
       "  <tbody>\n",
       "    <tr>\n",
       "      <th>0</th>\n",
       "      <td>1</td>\n",
       "      <td>Meridian</td>\n",
       "      <td>Tel Aviv</td>\n",
       "      <td>Shinkin 24</td>\n",
       "      <td>3</td>\n",
       "      <td>03-6527384</td>\n",
       "      <td>230</td>\n",
       "    </tr>\n",
       "    <tr>\n",
       "      <th>1</th>\n",
       "      <td>2</td>\n",
       "      <td>Meridian</td>\n",
       "      <td>Tveria</td>\n",
       "      <td>Kineret 22</td>\n",
       "      <td>5</td>\n",
       "      <td>04-7369944</td>\n",
       "      <td>320</td>\n",
       "    </tr>\n",
       "    <tr>\n",
       "      <th>2</th>\n",
       "      <td>3</td>\n",
       "      <td>King David</td>\n",
       "      <td>Jerusalem</td>\n",
       "      <td>Kineret 22</td>\n",
       "      <td>5</td>\n",
       "      <td>02-7435334</td>\n",
       "      <td>200</td>\n",
       "    </tr>\n",
       "    <tr>\n",
       "      <th>3</th>\n",
       "      <td>4</td>\n",
       "      <td>Hilton</td>\n",
       "      <td>Jerusalem</td>\n",
       "      <td>Kineret 22</td>\n",
       "      <td>4</td>\n",
       "      <td>02-4566324</td>\n",
       "      <td>180</td>\n",
       "    </tr>\n",
       "    <tr>\n",
       "      <th>4</th>\n",
       "      <td>5</td>\n",
       "      <td>Herods</td>\n",
       "      <td>Eilat</td>\n",
       "      <td>Dolphin 14</td>\n",
       "      <td>4</td>\n",
       "      <td>09-7333245</td>\n",
       "      <td>190</td>\n",
       "    </tr>\n",
       "    <tr>\n",
       "      <th>5</th>\n",
       "      <td>6</td>\n",
       "      <td>Hof Yam</td>\n",
       "      <td>Haifa</td>\n",
       "      <td>Kasam 39</td>\n",
       "      <td>5</td>\n",
       "      <td>04-7344545</td>\n",
       "      <td>150</td>\n",
       "    </tr>\n",
       "    <tr>\n",
       "      <th>6</th>\n",
       "      <td>7</td>\n",
       "      <td>Ha Tsuk</td>\n",
       "      <td>Haifa</td>\n",
       "      <td>Lohem 17</td>\n",
       "      <td>3</td>\n",
       "      <td>04-7345678</td>\n",
       "      <td>110</td>\n",
       "    </tr>\n",
       "    <tr>\n",
       "      <th>7</th>\n",
       "      <td>8</td>\n",
       "      <td>Ha Nesiha</td>\n",
       "      <td>Eilat</td>\n",
       "      <td>Suf 4</td>\n",
       "      <td>5</td>\n",
       "      <td>09-6543543</td>\n",
       "      <td>170</td>\n",
       "    </tr>\n",
       "    <tr>\n",
       "      <th>8</th>\n",
       "      <td>9</td>\n",
       "      <td>King David</td>\n",
       "      <td>Tveria</td>\n",
       "      <td>Kineret 55</td>\n",
       "      <td>5</td>\n",
       "      <td>04-7445544</td>\n",
       "      <td>270</td>\n",
       "    </tr>\n",
       "    <tr>\n",
       "      <th>9</th>\n",
       "      <td>10</td>\n",
       "      <td>Queen Shva</td>\n",
       "      <td>Eilat</td>\n",
       "      <td>Galgal 55</td>\n",
       "      <td>5</td>\n",
       "      <td>08-7325544</td>\n",
       "      <td>340</td>\n",
       "    </tr>\n",
       "  </tbody>\n",
       "</table>\n",
       "</div>"
      ],
      "text/plain": [
       "   hotel_code  hotel_name       city     address  hotel_rank       phone  \\\n",
       "0           1    Meridian   Tel Aviv  Shinkin 24           3  03-6527384   \n",
       "1           2    Meridian     Tveria  Kineret 22           5  04-7369944   \n",
       "2           3  King David  Jerusalem  Kineret 22           5  02-7435334   \n",
       "3           4      Hilton  Jerusalem  Kineret 22           4  02-4566324   \n",
       "4           5      Herods      Eilat  Dolphin 14           4  09-7333245   \n",
       "5           6     Hof Yam      Haifa    Kasam 39           5  04-7344545   \n",
       "6           7     Ha Tsuk      Haifa    Lohem 17           3  04-7345678   \n",
       "7           8   Ha Nesiha      Eilat       Suf 4           5  09-6543543   \n",
       "8           9  King David     Tveria  Kineret 55           5  04-7445544   \n",
       "9          10  Queen Shva      Eilat   Galgal 55           5  08-7325544   \n",
       "\n",
       "   number_of_rooms  \n",
       "0              230  \n",
       "1              320  \n",
       "2              200  \n",
       "3              180  \n",
       "4              190  \n",
       "5              150  \n",
       "6              110  \n",
       "7              170  \n",
       "8              270  \n",
       "9              340  "
      ]
     },
     "execution_count": 17,
     "metadata": {},
     "output_type": "execute_result"
    }
   ],
   "source": [
    "df"
   ]
  }
 ],
 "metadata": {
  "anaconda-cloud": {},
  "kernelspec": {
   "display_name": "Python 3 (ipykernel)",
   "language": "python",
   "name": "python3"
  },
  "language_info": {
   "codemirror_mode": {
    "name": "ipython",
    "version": 3
   },
   "file_extension": ".py",
   "mimetype": "text/x-python",
   "name": "python",
   "nbconvert_exporter": "python",
   "pygments_lexer": "ipython3",
   "version": "3.9.7"
  }
 },
 "nbformat": 4,
 "nbformat_minor": 1
}
